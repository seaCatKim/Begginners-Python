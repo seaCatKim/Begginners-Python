{
  "nbformat": 4,
  "nbformat_minor": 0,
  "metadata": {
    "colab": {
      "private_outputs": true,
      "provenance": [],
      "include_colab_link": true
    },
    "kernelspec": {
      "name": "python3",
      "display_name": "Python 3"
    }
  },
  "cells": [
    {
      "cell_type": "markdown",
      "metadata": {
        "id": "view-in-github",
        "colab_type": "text"
      },
      "source": [
        "<a href=\"https://colab.research.google.com/github/seaCatKim/planets/blob/main/meetup189_functions_introduction.ipynb\" target=\"_parent\"><img src=\"https://colab.research.google.com/assets/colab-badge.svg\" alt=\"Open In Colab\"/></a>"
      ]
    },
    {
      "cell_type": "markdown",
      "metadata": {
        "id": "tJmDmnWVOdXX"
      },
      "source": [
        "# MeetUp 190 - Beginners' Python and Machine Learning - 06 Sep 2023 - Getting Started 3b\n",
        "\n",
        "Learning objectives:\n",
        "- Interactive python\n",
        "- Introduction to coding\n",
        "- Functions\n",
        "\n",
        "Links:\n",
        "- Colab:   https://colab.research.google.com/drive/1DtV6N3J56hb9-kfX48YCLLW7WwRDrwZ7\n",
        "- Youtube: https://youtu.be/pVQYKDwPKAw\n",
        "- Meetup:  https://www.meetup.com/beginners-python-machine-learning/events/295674734\n",
        "- Github:  https://github.com/timcu/bpaml-sessions/tree/master/online\n",
        "\n",
        "@author D Tim Cummings\n",
        "\n",
        "Install Software\n",
        "- Use a Google account to go to https://colab.research.google.com\n",
        " - Doesn't need Python installed on your computer\n",
        " - Great for interactive use and data science\n",
        " - Not so good for scripting and building apps\n",
        "- Install Python 3.11.4 from https://www.python.org/downloads/\n",
        " - necessary for running python on your computer\n",
        " - alternatively can install anaconda which includes many third party libraries\n",
        "- Integrated Development Environment (IDE), easier to write programs\n",
        " - PyCharm Community Edition 2023.2 from https://www.jetbrains.com/pycharm/download/\n",
        " - Visual Studio Code from https://code.visualstudio.com\n",
        "\n",
        "For those interested in my children's Python coding course see https://pythonator.com (makes Python coders out of gamers). This course would be good for adults too if they could play Minecraft or Minetest as competently as the children! It requires the Academy plugin for PyCharm https://plugins.jetbrains.com/plugin/10081-jetbrains-academy/docs/install-jetbrains-academy-plugin.html\n"
      ]
    },
    {
      "cell_type": "markdown",
      "metadata": {
        "id": "7w_QDqKAQYxX"
      },
      "source": [
        "There are different ways to write Python.\n",
        "The language is the same in every case, but the ways users\n",
        "interact with the program is different in each case.\n",
        "Today we are using Jupyter Notebooks on Google Colab.\n",
        "Jupyter Notebooks are an extension of IPython (Interactive Python). Every exercise could also be done in Python. Python version of this notebook available in https://github.com/timcu/bpaml-sessions/tree/master/online\n",
        "\n",
        "Jupyter Notebooks are a great way to learn because you see the results immediately. They can also be great for data science. However, they are not suited for some Python programs such as web applications, database apps, desktop apps, GUI apps, operating system services."
      ]
    },
    {
      "cell_type": "markdown",
      "metadata": {
        "id": "Gk4so8hvPspP"
      },
      "source": [
        "# Using Google Colab / Jupyter Notebooks / IPython\n",
        "\n",
        "- type into a cell\n",
        "- press `<shift><enter>` to execute the cell\n",
        "- cells can be python code or markdown text\n",
        "- use ? or Help menu for help\n",
        "- see Tools menu > Keyboard shortcuts"
      ]
    },
    {
      "cell_type": "code",
      "metadata": {
        "id": "m0iDXGMQP9BU"
      },
      "source": [
        "# comments in code cells start with a '#'. They don't do anything. They are just there for you to read.\n",
        "# try executing ? to bring up IPython help (press <shift><enter> while this cell is selected)\n",
        "# If you are using Python Console rather than IPython then use help()\n",
        "?"
      ],
      "execution_count": null,
      "outputs": []
    },
    {
      "cell_type": "code",
      "metadata": {
        "id": "KVkevOVcO3mp"
      },
      "source": [
        "# Coding is all about writing commands for a computer to follow\n",
        "# The only commands a computer can do are rather simple but it can do them very quickly\n",
        "# For example to display something, use the print() command\n",
        "print(5 + 3)"
      ],
      "execution_count": null,
      "outputs": []
    },
    {
      "cell_type": "code",
      "metadata": {
        "id": "fvjVBNaujn-m"
      },
      "source": [
        "# In IPython or Python Console we don't even need the print() to display data\n",
        "4 + 5"
      ],
      "execution_count": null,
      "outputs": []
    },
    {
      "cell_type": "code",
      "metadata": {
        "id": "7HesTkg-S12D"
      },
      "source": [
        "# Commands in a cell are executed sequentially\n",
        "print(4)\n",
        "print(3)"
      ],
      "execution_count": null,
      "outputs": []
    },
    {
      "cell_type": "code",
      "metadata": {
        "id": "i6mhmVzZj4M7"
      },
      "source": [
        "# Unfortunately in IPython only the data on the last line is displayed so use print() if you need more\n",
        "2\n",
        "1"
      ],
      "execution_count": null,
      "outputs": []
    },
    {
      "cell_type": "code",
      "metadata": {
        "id": "EMYb29D_ZUFZ"
      },
      "source": [
        "# Assume we have two variables x and y, and y is calculated from a formula of x\n",
        "x = 3\n",
        "y = x * x - 4 * x + 4\n",
        "# Print using f-string. For Python earlier than 3.8 use f\"x={x}, y={y}\"\n",
        "print(f\"{x=}, {y=}\") # curly brace evaluates the result and prints"
      ],
      "execution_count": null,
      "outputs": []
    },
    {
      "cell_type": "code",
      "metadata": {
        "id": "6hiWrvZHZUBw"
      },
      "source": [
        "# We can calculate y for different values of x and put all the x and y values into lists\n",
        "# notice how python uses indentation to designate code blocks\n",
        "x = 0\n",
        "lst_x = []  # empty list\n",
        "lst_y = []\n",
        "for i in range(41):\n",
        "    x = i / 10\n",
        "    y = x * x - 4 * x + 4\n",
        "    lst_x.append(x)  # method on object\n",
        "    lst_y.append(y)\n",
        "    if i < 10:\n",
        "        print(f\"{x=}, {y=}\")\n",
        "print(f\"{lst_x=}\")\n",
        "print(f\"{lst_y=}\")"
      ],
      "execution_count": null,
      "outputs": []
    },
    {
      "cell_type": "code",
      "metadata": {
        "id": "Qu85HLiPZT7g"
      },
      "source": [
        "# We can use a third party library to plot x and y in a scatter chart\n",
        "import plotly.express as px"
      ],
      "execution_count": null,
      "outputs": []
    },
    {
      "cell_type": "code",
      "metadata": {
        "id": "cT224DUbZT4O"
      },
      "source": [
        "px.line(x=lst_x, y=lst_y)"
      ],
      "execution_count": null,
      "outputs": []
    },
    {
      "cell_type": "code",
      "metadata": {
        "id": "G7zTRg7k2BbP"
      },
      "source": [
        "# It becomes cumbersome (and error prone) to type \"x * x - 4 * x + 4\" every time we want to calculate y\n",
        "# so we store it in a function\n",
        "# def and return are keywords\n",
        "# f is the function name\n",
        "# a is the argument\n",
        "def f(a):\n",
        "    return a * a - 4 * a + 4\n",
        "\n",
        "# 4 space indent standard in python"
      ],
      "execution_count": null,
      "outputs": []
    },
    {
      "cell_type": "code",
      "metadata": {
        "id": "fNdtwokP2BTj"
      },
      "source": [
        "# To call the function we use the function name followed by parentheses.\n",
        "# If the function has arguments they should be supplied within the parentheses\n",
        "f(5)"
      ],
      "execution_count": null,
      "outputs": []
    },
    {
      "cell_type": "code",
      "metadata": {
        "id": "wvb0mpqC3F4G"
      },
      "source": [
        "# Task 1: Call the function using an argument of 2.5"
      ],
      "execution_count": null,
      "outputs": []
    },
    {
      "cell_type": "code",
      "metadata": {
        "id": "7mwo55EJ3F1Z"
      },
      "source": [
        "f(2.5)"
      ],
      "execution_count": null,
      "outputs": []
    },
    {
      "cell_type": "code",
      "metadata": {
        "id": "IUseWbUf3Fx0"
      },
      "source": [
        "# Solution 1: Calling the function and storing the result in a variable. Printing the answer using an f-string\n",
        "x = 2.5\n",
        "y = f(x)\n",
        "print(f\"Solution 1: f({x})={y}\")"
      ],
      "execution_count": null,
      "outputs": []
    },
    {
      "cell_type": "code",
      "metadata": {
        "id": "8Hju6ZG_BZ12"
      },
      "source": [
        "# Python is dynamically typed language. We can call our function with any data type that understands *, -, + operators\n",
        "x = 3\n",
        "y = f(x)\n",
        "print(f\"type(x)={type(x).__name__:7s}: type(y)={type(y).__name__:7s} f({x})={y}\")\n",
        "x = 3.  # floating point number\n",
        "y = f(x)\n",
        "print(f\"type(x)={type(x).__name__:7s}: type(y)={type(y).__name__:7s} f({x})={y}\")"
      ],
      "execution_count": null,
      "outputs": []
    },
    {
      "cell_type": "code",
      "source": [
        "# Let's create a function to make printing return value and type easier\n",
        "def print_function_result(fun, x):\n",
        "    y = fun(x)\n",
        "    print(f\"type(x)={type(x).__name__:7s}: type(y)={type(y).__name__:7s} f({x})={y}\")\n",
        "\n",
        "# type - returns data type"
      ],
      "metadata": {
        "id": "djCdr-bZAnf6"
      },
      "execution_count": null,
      "outputs": []
    },
    {
      "cell_type": "code",
      "source": [
        "x = 3\n",
        "print_function_result(f, x)\n",
        "x = 3.\n",
        "print_function_result(f, x)"
      ],
      "metadata": {
        "id": "l9NWLH74AnUq"
      },
      "execution_count": null,
      "outputs": []
    },
    {
      "cell_type": "code",
      "metadata": {
        "id": "L3WfqXRA3FpT"
      },
      "source": [
        "# Task 2: Try calling function with argument of different data type\n",
        "# eg decimal.Decimal(\"1.1\") from standard library decimal (which needs to be imported)\n",
        "import decimal"
      ],
      "execution_count": null,
      "outputs": []
    },
    {
      "cell_type": "code",
      "metadata": {
        "id": "oatgfAJy_sDA"
      },
      "source": [
        "d = decimal.Decimal(\"1.1\")\n",
        "print(d)\n",
        "f(d)"
      ],
      "execution_count": null,
      "outputs": []
    },
    {
      "cell_type": "code",
      "metadata": {
        "id": "n15wI6wH2BHG"
      },
      "source": [
        "# Solution 2: Can also import class Decimal from decimal library\n",
        "from decimal import Decimal\n",
        "x = Decimal(\"1.1\")  # class constructor, not a function\n",
        "print_function_result(f, x)\n",
        "x = 1.1\n",
        "print_function_result(f, x)"
      ],
      "execution_count": null,
      "outputs": []
    },
    {
      "cell_type": "code",
      "metadata": {
        "id": "mh199afO4uEZ"
      },
      "source": [
        "# Task 3: rewrite our loop from before which created lst_x and lst_y but this time calling the function"
      ],
      "execution_count": null,
      "outputs": []
    },
    {
      "cell_type": "code",
      "metadata": {
        "id": "oHLLnWggWeVL"
      },
      "source": [
        "x = 0\n",
        "lst_x = []  # empty list\n",
        "lst_y = []\n",
        "for i in range(41):\n",
        "    x = i / 10\n",
        "    y = f(x)  # replace with function\n",
        "    lst_x.append(x)\n",
        "    lst_y.append(y)\n",
        "    if i < 10:\n",
        "        print(f\"{x=}, {y=}\")\n",
        "print(f\"{lst_x=}\")\n",
        "print(f\"{lst_y=}\")"
      ],
      "execution_count": null,
      "outputs": []
    },
    {
      "cell_type": "code",
      "metadata": {
        "id": "V-038dEXXS27"
      },
      "source": [
        "print(\"Solution 3: Using a function and list comprehension to create lists\")\n",
        "lst_x = [i/10 for i in range(41)] # for command and expression\n",
        "lst_y = [f(i/10) for i in range(41)]\n",
        "print(f\"{lst_x=}\")\n",
        "print(f\"{lst_y=}\")"
      ],
      "execution_count": null,
      "outputs": []
    },
    {
      "cell_type": "code",
      "metadata": {
        "id": "SAR_LYqS0Bmh"
      },
      "source": [
        "# Built in functions are just like functions we create.\n",
        "# They are called by entering their name followed by parentheses\n",
        "# Any arguments need to be included in the parentheses\n",
        "print()  # with no arguments prints a blank line to the console"
      ],
      "execution_count": null,
      "outputs": []
    },
    {
      "cell_type": "code",
      "metadata": {
        "id": "tvtmG5NK0Aqq"
      },
      "source": [
        "print(\"hello\")  # with one argument prints a display view of the value on a line by itself"
      ],
      "execution_count": null,
      "outputs": []
    },
    {
      "cell_type": "code",
      "metadata": {
        "id": "8SrTOOvX08oC"
      },
      "source": [
        "# Task 4: What other built-in functions have we already used?"
      ],
      "execution_count": null,
      "outputs": []
    },
    {
      "cell_type": "code",
      "metadata": {
        "id": "sWdf6btL1I56"
      },
      "source": [],
      "execution_count": null,
      "outputs": []
    },
    {
      "cell_type": "code",
      "metadata": {
        "id": "xb22ROHI1Jxd"
      },
      "source": [
        "# Solution 4\n",
        "# range(stop)  # one argument, stop value when iterating from 0 upwards\n",
        "# type(val)    # one argument, value of which we want to know the current type\n",
        "\n",
        "# px.line(x=lst_x, y=lst_y)  # two named arguments. Not a built-in function. Comes from third party library so needs to be installed then imported\n",
        "\n",
        "# Decimal(value as str)  # This is not really a function. Decimal is a class and Decimal() is the constructor. As part of creating instance it may call a function\n",
        "# Decimal is not built-in but part of a standard library so it can be imported without installing.\n",
        "\n",
        "# By convention classes use TitleCase while function names use lower_case_with_underscores. Not followed 100%"
      ],
      "execution_count": null,
      "outputs": []
    },
    {
      "cell_type": "code",
      "metadata": {
        "id": "ul_7zakgYMG3"
      },
      "source": [
        "# Functions don't need to have arguments\n",
        "import datetime\n",
        "# datetime is a standard python library but needs to be imported to use it\n",
        "# datetime.datetime is a class in the datetime library\n",
        "# datetime.datetime.now() calls a function in the class which returns an object of type datetime\n",
        "# datetime.datetime.now().strftime() calls a function on the now object of type datetime and formats it the way specified\n",
        "\n",
        "def show_time():\n",
        "    print(datetime.datetime.now().strftime(\"Year: %Y, Month %m, Day %d, Hour: %H, Minute: %M, Second: %S, Microsecond: %f\"))\n",
        "\n",
        "# To call the function we still need to provide the parentheses\n",
        "show_time()"
      ],
      "execution_count": null,
      "outputs": []
    },
    {
      "cell_type": "code",
      "metadata": {
        "id": "dAS1cCLHY8uD"
      },
      "source": [
        "# Functions can return values\n",
        "import pytz\n",
        "# pytz is not a standard python library.\n",
        "# dateutil.tz recommended over pytz but doesn't provide list of all timezones\n",
        "# Colab includes all the python standard libraries + those in anaconda\n",
        "\n",
        "def timezone_regions():\n",
        "    regions = set()\n",
        "    for tz in pytz.all_timezones:\n",
        "        if \"/\" in tz:\n",
        "            idx = tz.index(\"/\")\n",
        "            regions.add(tz[:idx])\n",
        "        else:\n",
        "            regions.add(tz)\n",
        "    sorted_regions = sorted(regions)\n",
        "    return sorted_regions\n",
        "\n",
        "\n",
        "# Convert set of regions into a sorted list\n",
        "lst_regions = timezone_regions()\n",
        "print(lst_regions)"
      ],
      "execution_count": null,
      "outputs": []
    },
    {
      "cell_type": "code",
      "metadata": {
        "id": "Kcwi0lazZUDp"
      },
      "source": [
        "# Task 5: Define a function which takes one argument, region, and returns the timezones in that region"
      ],
      "execution_count": null,
      "outputs": []
    },
    {
      "cell_type": "code",
      "source": [
        "def timezones_for_region(region):\n",
        "  timezones = []\n",
        "  for tz in pytz.all_timezones:\n",
        "    if \"/\" in tz:\n",
        "      r = tz[:tz.index(\"/\")]  # up to but not including the /\n",
        "    else:\n",
        "      r = tz\n",
        "    if r == region:\n",
        "      timezones.append(tz)\n",
        "  return timezones\n",
        "\n",
        "print(timezones_for_region(\"Australia\"))\n"
      ],
      "metadata": {
        "id": "iv1sBBkiiFbh"
      },
      "execution_count": null,
      "outputs": []
    },
    {
      "cell_type": "code",
      "metadata": {
        "id": "09r0nl5VforE"
      },
      "source": [
        "print(\"Solution 5: Function returning timezones for a region\")\n",
        "def region_for_timezone(tz):\n",
        "    \"\"\"Extracts the region from a timezone\n",
        "\n",
        "    By using the same function in timezones_for_region and timezone_regions we\n",
        "    improve the consistency of data.\n",
        "    Example: region_for_timezone('Australia/ACT') returns 'Australia'\"\"\"  # triple quotes allows doc string, multiple lines\n",
        "    # First str in a function is the docstring.\n",
        "    if \"/\" in tz:\n",
        "        idx = tz.index(\"/\")\n",
        "        return tz[:idx]\n",
        "    else:\n",
        "        return tz\n",
        "\n",
        "def timezones_for_region(region):\n",
        "    \"\"\"Return all timezones in a region.\"\"\"\n",
        "    # Using region_for_timezone('NZ-CHAT') == 'NZ' more reliable than 'NZ-CHAT'.startswith('NZ')\n",
        "    # The following method of creating a list is called list comprehension\n",
        "    return [tz for tz in pytz.all_timezones if region_for_timezone(tz) == region] # only ones that satisfy if conditional get returned\n",
        "\n",
        "def timezone_regions():\n",
        "    \"\"\"Return all regions which have a timezone in pytz\"\"\"  # triple (or single quote) string\n",
        "    # The following method uses set comprehension to create a set\n",
        "    return sorted({region_for_timezone(tz) for tz in pytz.all_timezones}) # set comprehension with {}\n",
        "    # pass to sorted which will sort and convert to list\n",
        "\n",
        "print(timezones_for_region(\"Australia\"))\n",
        "print(timezones_for_region(\"NZ\"))\n",
        "print(timezones_for_region(\"Etc\"))\n",
        "print(timezones_for_region(\"UCT\"))\n",
        "print(timezone_regions())\n",
        "help(region_for_timezone)"
      ],
      "execution_count": null,
      "outputs": []
    },
    {
      "cell_type": "code",
      "metadata": {
        "id": "7v6MGzFDgPJe"
      },
      "source": [
        "# Be careful when using Etc timezones\n",
        "for tz in [\"UTC\", \"Australia/Brisbane\", \"Etc/GMT+10\", \"Etc/GMT-10\"]:\n",
        "    print(f\"Timezone: {tz:20} Current time: {datetime.datetime.now(pytz.timezone(tz))}\")"
      ],
      "execution_count": null,
      "outputs": []
    },
    {
      "cell_type": "code",
      "metadata": {
        "id": "BMeISITArcfL"
      },
      "source": [
        "# help() can be called on built-in functions\n",
        "help(print)"
      ],
      "execution_count": null,
      "outputs": []
    },
    {
      "cell_type": "code",
      "metadata": {
        "id": "xTJ7_GgnmUH_"
      },
      "source": [
        "# Arguments to a function can have default values eg sep, end, file, flush\n",
        "# Arguments to a function can be either or both of by order or by name\n",
        "# eg sep is first named argument\n",
        "# all the preceding arguments are unnamed and depend on order only\n",
        "\n",
        "# You will normally write functions with named arguments\n",
        "# which will accept both by order or by name\n",
        "def total_seconds(minutes=0, seconds=0):\n",
        "    \"\"\"returns the total number of seconds in the given minutes and seconds\n",
        "\n",
        "    minutes: the number of minutes (default 0)\n",
        "    seconds: the number of seconds (default 0)\"\"\"\n",
        "    return minutes * 60 + seconds\n",
        "\n",
        "print(f\"total_seconds(32, 15)={total_seconds(32, 15)}. (calling by order)\")\n",
        "print(f\"total_seconds(seconds=15, minutes=32)={total_seconds(seconds=15, minutes=32)}. (calling by name)\")\n",
        "print(f\"total_seconds(32, seconds=15)={total_seconds(32, seconds=15)}. (calling by order and name. order has to come first)\")"
      ],
      "execution_count": null,
      "outputs": []
    },
    {
      "cell_type": "code",
      "metadata": {
        "id": "z7lB20coqjb4"
      },
      "source": [
        "# Task 6: Expand total_seconds to take three arguments hours, minutes, seconds"
      ],
      "execution_count": null,
      "outputs": []
    },
    {
      "cell_type": "code",
      "metadata": {
        "id": "Dsa8zPptsCMa"
      },
      "source": [
        "def total_seconds(hours = 0, minutes=0, seconds=0):\n",
        "    \"\"\"returns the total number of seconds in the given hours, minutes, and seconds\n",
        "\n",
        "    hours: the number of hours (default 0)\n",
        "    minutes: the number of minutes (default 0)\n",
        "    seconds: the number of seconds (default 0)\"\"\"\n",
        "    return hours * 60 * 60 + minutes * 60 + seconds"
      ],
      "execution_count": null,
      "outputs": []
    },
    {
      "cell_type": "code",
      "metadata": {
        "id": "ag6svVb8vX9H"
      },
      "source": [
        "print(\"Solution 6: Three named arguments to total_seconds\")\n",
        "def total_seconds(hours=0, minutes=0, seconds=0):\n",
        "    \"\"\"returns the total number of seconds in the given hours, minutes and seconds\n",
        "\n",
        "    hours: the number of hours(default 0)\n",
        "    minutes: the number of minutes (default 0)\n",
        "    seconds: the number of seconds (default 0)\"\"\"\n",
        "    return hours * 3600 + minutes * 60 + seconds\n",
        "\n",
        "print(f\"total_seconds(0, 32, 15)={total_seconds(0, 32, 15)}. (calling by order)\")\n",
        "print(f\"total_seconds(seconds=15, minutes=32)={total_seconds(seconds=15, minutes=32)}. (calling by name)\")\n",
        "print(f\"total_seconds(0, 32, seconds=15)={total_seconds(0, 32, seconds=15)}. (calling by order and name. order has to come first)\")\n",
        "print(f\"total_seconds(seconds=15, hours=1, minutes=32)={total_seconds(seconds=15, hours=1, minutes=32)}. (calling by name)\")"
      ],
      "execution_count": null,
      "outputs": []
    },
    {
      "cell_type": "code",
      "metadata": {
        "id": "AZRteERKv5l0"
      },
      "source": [
        "# Task 7: Define a function which converts temperature in celsius to fahrenheit\n",
        "# f = c * 1.8 + 32"
      ],
      "execution_count": null,
      "outputs": []
    },
    {
      "cell_type": "code",
      "metadata": {
        "id": "Xlj-MH48zi2U"
      },
      "source": [
        "def fahr(c):\n",
        "  return c * 1.8 + 32\n",
        "\n",
        "fahr(100)"
      ],
      "execution_count": null,
      "outputs": []
    },
    {
      "cell_type": "code",
      "metadata": {
        "id": "x41rLam_zjga"
      },
      "source": [
        "print(\"Solution 7: Convert celsius to fahrenheit\")\n",
        "def fahrenheit(celsius):\n",
        "    \"\"\"Convert temperature in celsius to fahrenheit\"\"\"\n",
        "    return celsius * 1.8 + 32\n",
        "\n",
        "for c in [0, 100, -40]:\n",
        "    print(f\"{c:7.2f}°C is equivalent to {fahrenheit(c):7.2f}°F\")"
      ],
      "execution_count": null,
      "outputs": []
    },
    {
      "cell_type": "code",
      "metadata": {
        "id": "e3LHEr44-v-G"
      },
      "source": [
        "d = {\"hours\": 1, \"seconds\": 1} # dictionary\n",
        "total_seconds(hours = d[\"hours\"], seconds = d[\"seconds\"])\n",
        "\n",
        "total_seconds(**d) # explode out dictionary to parameter names\n"
      ],
      "execution_count": null,
      "outputs": []
    },
    {
      "cell_type": "code",
      "source": [
        "lst = [1, 2, 3]\n",
        "total_seconds(*lst)  # single asterisk for exploding list"
      ],
      "metadata": {
        "id": "Hz0DmURDn1Wx"
      },
      "execution_count": null,
      "outputs": []
    }
  ]
}